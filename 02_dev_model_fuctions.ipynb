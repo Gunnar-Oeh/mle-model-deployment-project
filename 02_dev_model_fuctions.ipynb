{
 "cells": [
  {
   "cell_type": "code",
   "execution_count": null,
   "metadata": {},
   "outputs": [],
   "source": [
    "from datetime import datetime\n",
    "import pandas as pd"
   ]
  },
  {
   "cell_type": "code",
   "execution_count": null,
   "metadata": {},
   "outputs": [],
   "source": [
    "# from predict.py\n",
    "def get_days_minutes(date_time):\n",
    "    '''time_str'''\n",
    "    return date_time.hour * 60 + date_time.minute\n",
    "\n",
    "# Data Preprocessing for a single ride given as a dict?\n",
    "def prepare_features(ride):\n",
    "    ### add the current time in minutes to the ride data\n",
    "    now_time = datetime.now()\n",
    "    features = {}\n",
    "\n",
    "    ### Transform given locatio_ids to a single trip route\n",
    "    # syntax object.value following pydantic syntax\n",
    "    features['trip_route'] = str(ride.PULocationID) + \"_\" + str(ride.DOLocationID)\n",
    "    features[\"trip_distance\"] = ride.trip_distance\n",
    "    features[\"pickup_time_minutes\"] = get_days_minutes(now_time)\n",
    "    features[\"passenger_count\"] = ride.passenger_count\n",
    "\n",
    "    return features\n",
    "\n",
    "# Load the Model from ML-Flow\n",
    "def load_model(run_id):\n",
    "    #stage = \"Production\"\n",
    "    model_uri = f\"runs:/{run_id}/model\"\n",
    "    model = mlflow.pyfunc.load_model(model_uri)\n",
    "    return model\n",
    "\n",
    "# Return a prediction\n",
    "# To understand the handling of the input data f\n",
    "def predict(model_name, data):\n",
    "  \n",
    "    load_dotenv(\"../.env\")\n",
    "    MLFLOW_TRACKING_URI = os.getenv(\"MLFLOW_TRACKING_URI\")\n",
    "    SA_KEY = os.getenv(\"SA_KEY\")\n",
    "    os.environ[\"GOOGLE_APPLICATION_CREDENTIALS\"] = SA_KEY\n",
    "    \n",
    "    mlflow.set_tracking_uri(MLFLOW_TRACKING_URI)\n",
    "    model_input = prepare_features(data) # Error here\n",
    "    model = load_model(model_name)\n",
    "    prediction = model_input\n",
    "    # prediction = model.predict(model_input) # preprocessing pipeline (vectorization and encoding) is part of the model\n",
    "    return float(prediction[\"trip_distance\"])   "
   ]
  },
  {
   "cell_type": "code",
   "execution_count": null,
   "metadata": {},
   "outputs": [],
   "source": [
    "from webservice_locally.data_model import TaxiRide, TaxiRidePrediction # data models imported\n",
    "from webservice_locally.predict import predict\n",
    "\n",
    "# from app.py\n",
    "def predict_duration(data: TaxiRide): # Data beeing send in the model of TaxiRide \n",
    "    # (RideID, PU, DO, distance)\n",
    "    prediction = predict(\"350d0a6fd4884d47983e1b2b244679f9\", data) # makes pre-processing and prediction of\n",
    "    # one instance \n",
    "    # In the Return-statement, the input-data of the post-method in the data-model of\n",
    "    # TaxiRide is unpacked into the data-model of TaxiRidePrediction, which inherits from TaxiRide\n",
    "    # so that the returned object holds the data about the ride and the predicted duration\n",
    "    return TaxiRidePrediction(**data.dict(), \n",
    "                              predicted_duration=prediction)"
   ]
  },
  {
   "cell_type": "code",
   "execution_count": null,
   "metadata": {},
   "outputs": [],
   "source": [
    "data = {\n",
    "  \"ride_id\": \"bla\",\n",
    "  \"PULocationID\": 1,\n",
    "  \"DOLocationID\": 10,\n",
    "  \"trip_distance\": 12,\n",
    "  \"passenger_count\": 2\n",
    "}\n",
    "pd.DataFrame(data)"
   ]
  },
  {
   "cell_type": "code",
   "execution_count": null,
   "metadata": {},
   "outputs": [],
   "source": [
    "predict_duration({\n",
    "  \"ride_id\": \"bla\",\n",
    "  \"PULocationID\": 1,\n",
    "  \"DOLocationID\": 10,\n",
    "  \"trip_distance\": 12,\n",
    "  \"passenger_count\": 2\n",
    "})"
   ]
  }
 ],
 "metadata": {
  "kernelspec": {
   "display_name": ".venv",
   "language": "python",
   "name": "python3"
  },
  "language_info": {
   "codemirror_mode": {
    "name": "ipython",
    "version": 3
   },
   "file_extension": ".py",
   "mimetype": "text/x-python",
   "name": "python",
   "nbconvert_exporter": "python",
   "pygments_lexer": "ipython3",
   "version": "3.11.3"
  },
  "orig_nbformat": 4
 },
 "nbformat": 4,
 "nbformat_minor": 2
}
