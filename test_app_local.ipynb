{
 "cells": [
  {
   "cell_type": "code",
   "execution_count": 1,
   "metadata": {},
   "outputs": [],
   "source": [
    "### Predict-script which defines the functions used in the requests of the api\n",
    "import mlflow\n",
    "import os\n",
    "from dotenv import load_dotenv\n",
    "import numpy as np\n",
    "from datetime import datetime\n",
    "from pydantic import BaseModel"
   ]
  },
  {
   "cell_type": "code",
   "execution_count": 2,
   "metadata": {},
   "outputs": [],
   "source": [
    "\n",
    "### Helper functions\n",
    "# Time of the day in minutes as feature\n",
    "def get_days_minutes(date_time):\n",
    "    '''time_str'''\n",
    "    return date_time.hour * 60 + date_time.minute\n"
   ]
  },
  {
   "cell_type": "code",
   "execution_count": 17,
   "metadata": {},
   "outputs": [],
   "source": [
    "class TaxiRide(BaseModel):\n",
    "    ride_id: str\n",
    "    PULocationID: int\n",
    "    DOLocationID: int\n",
    "    trip_distance: float\n",
    "    passenger_count: int\n",
    "    \n",
    "\n",
    "taxi_ride = TaxiRide(ride_id=\"12345\", \n",
    "                     PULocationID=5, \n",
    "                     DOLocationID=10, \n",
    "                     trip_distance=8.3, \n",
    "                     passenger_count=2)"
   ]
  },
  {
   "cell_type": "code",
   "execution_count": 18,
   "metadata": {},
   "outputs": [
    {
     "data": {
      "text/plain": [
       "{'pickup_time_minutes': 1027,\n",
       " 'trip_route': '5_10',\n",
       " 'passenger_count': 2,\n",
       " 'trip_distance': 8.3}"
      ]
     },
     "execution_count": 18,
     "metadata": {},
     "output_type": "execute_result"
    }
   ],
   "source": [
    "preprocess(taxi_ride)"
   ]
  }
 ],
 "metadata": {
  "kernelspec": {
   "display_name": ".venv",
   "language": "python",
   "name": "python3"
  },
  "language_info": {
   "codemirror_mode": {
    "name": "ipython",
    "version": 3
   },
   "file_extension": ".py",
   "mimetype": "text/x-python",
   "name": "python",
   "nbconvert_exporter": "python",
   "pygments_lexer": "ipython3",
   "version": "3.11.3"
  },
  "orig_nbformat": 4
 },
 "nbformat": 4,
 "nbformat_minor": 2
}
