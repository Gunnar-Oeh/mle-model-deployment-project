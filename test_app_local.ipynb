{
 "cells": [
  {
   "cell_type": "code",
   "execution_count": 1,
   "metadata": {},
   "outputs": [],
   "source": [
    "from datetime import datetime"
   ]
  },
  {
   "cell_type": "code",
   "execution_count": 9,
   "metadata": {},
   "outputs": [],
   "source": [
    "# from predict.py\n",
    "def get_days_minutes(date_time):\n",
    "    '''time_str'''\n",
    "    return date_time.hour * 60 + date_time.minute\n",
    "\n",
    "# Data Preprocessing for a single ride given as a dict?\n",
    "def prepare_features(ride):\n",
    "    ### add the current time in minutes to the ride data\n",
    "    now_time = datetime.now()\n",
    "    features = {}\n",
    "\n",
    "    ### Transform given locatio_ids to a single trip route\n",
    "    # syntax object.value following pydantic syntax\n",
    "    features['trip_route'] = str(ride.PULocationID) + \"_\" + str(ride.DOLocationID)\n",
    "    features[\"trip_distance\"] = ride.trip_distance\n",
    "    features[\"pickup_time_minutes\"] = get_days_minutes(now_time)\n",
    "    features[\"passenger_count\"] = ride.passenger_count\n",
    "\n",
    "    return features\n",
    "\n",
    "# Load the Model from ML-Flow\n",
    "def load_model(run_id):\n",
    "    #stage = \"Production\"\n",
    "    model_uri = f\"runs:/{run_id}/model\"\n",
    "    model = mlflow.pyfunc.load_model(model_uri)\n",
    "    return model\n",
    "\n",
    "# Return a prediction\n",
    "# To understand the handling of the input data f\n",
    "def predict(model_name, data):\n",
    "  \n",
    "    load_dotenv(\"../.env\")\n",
    "    MLFLOW_TRACKING_URI = os.getenv(\"MLFLOW_TRACKING_URI\")\n",
    "    SA_KEY = os.getenv(\"SA_KEY\")\n",
    "    os.environ[\"GOOGLE_APPLICATION_CREDENTIALS\"] = SA_KEY\n",
    "    \n",
    "    mlflow.set_tracking_uri(MLFLOW_TRACKING_URI)\n",
    "    model_input = prepare_features(data)\n",
    "    model = load_model(model_name)\n",
    "    prediction = model_input\n",
    "    # prediction = model.predict(model_input) # preprocessing pipeline (vectorization and encoding) is part of the model\n",
    "    return float(prediction[\"trip_distance\"])   "
   ]
  },
  {
   "cell_type": "code",
   "execution_count": 10,
   "metadata": {},
   "outputs": [],
   "source": [
    "from webservice_locally.data_model import TaxiRide, TaxiRidePrediction # data models imported\n",
    "from webservice_locally.predict import predict\n",
    "\n",
    "# from app.py\n",
    "def predict_duration(data: TaxiRide): # Data beeing send in the model of TaxiRide \n",
    "    # (RideID, PU, DO, distance)\n",
    "    prediction = predict(\"350d0a6fd4884d47983e1b2b244679f9\", data) # makes pre-processing and prediction of\n",
    "    # one instance \n",
    "    # In the Return-statement, the input-data of the post-method in the data-model of\n",
    "    # TaxiRide is unpacked into the data-model of TaxiRidePrediction, which inherits from TaxiRide\n",
    "    # so that the returned object holds the data about the ride and the predicted duration\n",
    "    return TaxiRidePrediction(**data.dict(), \n",
    "                              predicted_duration=prediction)"
   ]
  },
  {
   "cell_type": "code",
   "execution_count": 11,
   "metadata": {},
   "outputs": [
    {
     "ename": "AttributeError",
     "evalue": "'dict' object has no attribute 'PULocationID'",
     "output_type": "error",
     "traceback": [
      "\u001b[0;31m---------------------------------------------------------------------------\u001b[0m",
      "\u001b[0;31mAttributeError\u001b[0m                            Traceback (most recent call last)",
      "Cell \u001b[0;32mIn[11], line 1\u001b[0m\n\u001b[0;32m----> 1\u001b[0m predict_duration({\n\u001b[1;32m      2\u001b[0m   \u001b[39m\"\u001b[39;49m\u001b[39mride_id\u001b[39;49m\u001b[39m\"\u001b[39;49m: \u001b[39m\"\u001b[39;49m\u001b[39mbla\u001b[39;49m\u001b[39m\"\u001b[39;49m,\n\u001b[1;32m      3\u001b[0m   \u001b[39m\"\u001b[39;49m\u001b[39mPULocationID\u001b[39;49m\u001b[39m\"\u001b[39;49m: \u001b[39m1\u001b[39;49m,\n\u001b[1;32m      4\u001b[0m   \u001b[39m\"\u001b[39;49m\u001b[39mDOLocationID\u001b[39;49m\u001b[39m\"\u001b[39;49m: \u001b[39m10\u001b[39;49m,\n\u001b[1;32m      5\u001b[0m   \u001b[39m\"\u001b[39;49m\u001b[39mtrip_distance\u001b[39;49m\u001b[39m\"\u001b[39;49m: \u001b[39m12\u001b[39;49m,\n\u001b[1;32m      6\u001b[0m   \u001b[39m\"\u001b[39;49m\u001b[39mpassenger_count\u001b[39;49m\u001b[39m\"\u001b[39;49m: \u001b[39m2\u001b[39;49m\n\u001b[1;32m      7\u001b[0m })\n",
      "Cell \u001b[0;32mIn[10], line 7\u001b[0m, in \u001b[0;36mpredict_duration\u001b[0;34m(data)\u001b[0m\n\u001b[1;32m      5\u001b[0m \u001b[39mdef\u001b[39;00m \u001b[39mpredict_duration\u001b[39m(data: TaxiRide): \u001b[39m# Data beeing send in the model of TaxiRide \u001b[39;00m\n\u001b[1;32m      6\u001b[0m     \u001b[39m# (RideID, PU, DO, distance)\u001b[39;00m\n\u001b[0;32m----> 7\u001b[0m     prediction \u001b[39m=\u001b[39m predict(\u001b[39m\"\u001b[39;49m\u001b[39m350d0a6fd4884d47983e1b2b244679f9\u001b[39;49m\u001b[39m\"\u001b[39;49m, data) \u001b[39m# makes pre-processing and prediction of\u001b[39;00m\n\u001b[1;32m      8\u001b[0m     \u001b[39m# one instance \u001b[39;00m\n\u001b[1;32m      9\u001b[0m     \u001b[39m# In the Return-statement, the input-data of the post-method in the data-model of\u001b[39;00m\n\u001b[1;32m     10\u001b[0m     \u001b[39m# TaxiRide is unpacked into the data-model of TaxiRidePrediction, which inherits from TaxiRide\u001b[39;00m\n\u001b[1;32m     11\u001b[0m     \u001b[39m# so that the returned object holds the data about the ride and the predicted duration\u001b[39;00m\n\u001b[1;32m     12\u001b[0m     \u001b[39mreturn\u001b[39;00m TaxiRidePrediction(\u001b[39m*\u001b[39m\u001b[39m*\u001b[39mdata\u001b[39m.\u001b[39mdict(), \n\u001b[1;32m     13\u001b[0m                               predicted_duration\u001b[39m=\u001b[39mprediction)\n",
      "File \u001b[0;32m~/neuefische/mle-model-deployment-project/webservice_locally/predict.py:46\u001b[0m, in \u001b[0;36mpredict\u001b[0;34m(model_name, data)\u001b[0m\n\u001b[1;32m     43\u001b[0m os\u001b[39m.\u001b[39menviron[\u001b[39m\"\u001b[39m\u001b[39mGOOGLE_APPLICATION_CREDENTIALS\u001b[39m\u001b[39m\"\u001b[39m] \u001b[39m=\u001b[39m SA_KEY\n\u001b[1;32m     45\u001b[0m mlflow\u001b[39m.\u001b[39mset_tracking_uri(MLFLOW_TRACKING_URI)\n\u001b[0;32m---> 46\u001b[0m model_input \u001b[39m=\u001b[39m prepare_features(data)\n\u001b[1;32m     47\u001b[0m model \u001b[39m=\u001b[39m load_model(model_name)\n\u001b[1;32m     48\u001b[0m prediction \u001b[39m=\u001b[39m model\u001b[39m.\u001b[39mpredict(model_input) \u001b[39m# preprocessing pipeline (vectorization and encoding) is part of the model\u001b[39;00m\n",
      "File \u001b[0;32m~/neuefische/mle-model-deployment-project/webservice_locally/predict.py:23\u001b[0m, in \u001b[0;36mprepare_features\u001b[0;34m(ride)\u001b[0m\n\u001b[1;32m     19\u001b[0m features \u001b[39m=\u001b[39m {}\n\u001b[1;32m     21\u001b[0m \u001b[39m### Transform given locatio_ids to a single trip route\u001b[39;00m\n\u001b[1;32m     22\u001b[0m \u001b[39m# syntax object.value following pydantic syntax\u001b[39;00m\n\u001b[0;32m---> 23\u001b[0m features[\u001b[39m'\u001b[39m\u001b[39mtrip_route\u001b[39m\u001b[39m'\u001b[39m] \u001b[39m=\u001b[39m \u001b[39mstr\u001b[39m(ride\u001b[39m.\u001b[39;49mPULocationID) \u001b[39m+\u001b[39m \u001b[39m\"\u001b[39m\u001b[39m_\u001b[39m\u001b[39m\"\u001b[39m \u001b[39m+\u001b[39m \u001b[39mstr\u001b[39m(ride\u001b[39m.\u001b[39mDOLocationID)\n\u001b[1;32m     24\u001b[0m features[\u001b[39m\"\u001b[39m\u001b[39mtrip_distance\u001b[39m\u001b[39m\"\u001b[39m] \u001b[39m=\u001b[39m ride\u001b[39m.\u001b[39mtrip_distance\n\u001b[1;32m     25\u001b[0m features[\u001b[39m\"\u001b[39m\u001b[39mpickup_time_minutes\u001b[39m\u001b[39m\"\u001b[39m] \u001b[39m=\u001b[39m get_days_minutes(now_time)\n",
      "\u001b[0;31mAttributeError\u001b[0m: 'dict' object has no attribute 'PULocationID'"
     ]
    }
   ],
   "source": [
    "predict_duration({\n",
    "  \"ride_id\": \"bla\",\n",
    "  \"PULocationID\": 1,\n",
    "  \"DOLocationID\": 10,\n",
    "  \"trip_distance\": 12,\n",
    "  \"passenger_count\": 2\n",
    "})"
   ]
  }
 ],
 "metadata": {
  "kernelspec": {
   "display_name": ".venv",
   "language": "python",
   "name": "python3"
  },
  "language_info": {
   "codemirror_mode": {
    "name": "ipython",
    "version": 3
   },
   "file_extension": ".py",
   "mimetype": "text/x-python",
   "name": "python",
   "nbconvert_exporter": "python",
   "pygments_lexer": "ipython3",
   "version": "3.11.3"
  },
  "orig_nbformat": 4
 },
 "nbformat": 4,
 "nbformat_minor": 2
}
